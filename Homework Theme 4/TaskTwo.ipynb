{
 "cells": [
  {
   "cell_type": "code",
   "execution_count": 2,
   "id": "16182a20-fd4b-4a8d-9e5c-7d174eb32b46",
   "metadata": {},
   "outputs": [
    {
     "name": "stdout",
     "output_type": "stream",
     "text": [
      "Обработка завершена. Результаты записаны в funnel.csv\n",
      "\n",
      "Первые три строки файла funnel.csv:\n",
      "['user_id', 'date', 'category']\n",
      "['user_id', 'source', 'category']\n",
      "['1840e0b9d4', 'other', 'Продукты']\n"
     ]
    }
   ],
   "source": [
    "import csv\n",
    "import json\n",
    "\n",
    "purchase_log_path = r\"C:\\Users\\lolwu\\Python\\Homework Theme 4\\purchase_log.txt\"\n",
    "visit_log_path = r\"C:\\Users\\lolwu\\Python\\Homework Theme 4\\visit_log.csv\"\n",
    "funnel_path = r\"C:\\Users\\lolwu\\Python\\Homework Theme 4\\funnel.csv\"\n",
    "\n",
    "purchases = {}\n",
    "with open(purchase_log_path, 'r', encoding='utf-8') as f:\n",
    "    for line in f:\n",
    "        purchase = json.loads(line.strip())\n",
    "        purchases[purchase['user_id']] = purchase['category']\n",
    "\n",
    "with open(visit_log_path, 'r', encoding='utf-8') as visit_file, \\\n",
    "     open(funnel_path, 'w', newline='', encoding='utf-8') as funnel_file:\n",
    "    \n",
    "    csv_reader = csv.reader(visit_file)\n",
    "    csv_writer = csv.writer(funnel_file)\n",
    "    \n",
    "    csv_writer.writerow(['user_id', 'date', 'category'])\n",
    "    \n",
    "    for row in csv_reader:\n",
    "        user_id = row[0]\n",
    "        date = row[1]\n",
    "        \n",
    "        if user_id in purchases:\n",
    "            category = purchases[user_id]\n",
    "            csv_writer.writerow([user_id, date, category])\n",
    "\n",
    "print(\"Обработка завершена. Результаты записаны в funnel.csv\")\n",
    "\n",
    "print(\"\\nПервые три строки файла funnel.csv:\")\n",
    "with open(funnel_path, 'r', encoding='utf-8') as funnel_file:\n",
    "    csv_reader = csv.reader(funnel_file)\n",
    "    for i, row in enumerate(csv_reader):\n",
    "        if i < 3:\n",
    "            print(row)\n",
    "        else:\n",
    "            break"
   ]
  },
  {
   "cell_type": "code",
   "execution_count": null,
   "id": "6cb069c5-637e-4e16-ba42-7161233b787d",
   "metadata": {},
   "outputs": [],
   "source": []
  },
  {
   "cell_type": "code",
   "execution_count": null,
   "id": "ebcbf7af-7e4f-4d23-b363-8cfed470d07c",
   "metadata": {},
   "outputs": [],
   "source": []
  }
 ],
 "metadata": {
  "kernelspec": {
   "display_name": "Python 3 (ipykernel)",
   "language": "python",
   "name": "python3"
  },
  "language_info": {
   "codemirror_mode": {
    "name": "ipython",
    "version": 3
   },
   "file_extension": ".py",
   "mimetype": "text/x-python",
   "name": "python",
   "nbconvert_exporter": "python",
   "pygments_lexer": "ipython3",
   "version": "3.13.0"
  }
 },
 "nbformat": 4,
 "nbformat_minor": 5
}
