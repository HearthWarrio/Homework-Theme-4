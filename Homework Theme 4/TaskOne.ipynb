{
 "cells": [
  {
   "cell_type": "code",
   "execution_count": 5,
   "id": "6c7aebb5-3a1c-4780-b7de-431d3c2c7fea",
   "metadata": {},
   "outputs": [
    {
     "name": "stdout",
     "output_type": "stream",
     "text": [
      "Первые два элемента словаря purchases:\n",
      "'user_id': 'category'\n",
      "'1840e0b9d4': 'Продукты'\n",
      "\n",
      "Общее количество элементов в словаре: 99518\n",
      "\n",
      "Первые три строки файла funnel.csv:\n"
     ]
    },
    {
     "ename": "NameError",
     "evalue": "name 'funnel_path' is not defined",
     "output_type": "error",
     "traceback": [
      "\u001b[1;31m---------------------------------------------------------------------------\u001b[0m",
      "\u001b[1;31mNameError\u001b[0m                                 Traceback (most recent call last)",
      "Cell \u001b[1;32mIn[5], line 33\u001b[0m\n\u001b[0;32m     30\u001b[0m     \u001b[38;5;28mprint\u001b[39m(\u001b[38;5;124mf\u001b[39m\u001b[38;5;124m\"\u001b[39m\u001b[38;5;124mФайл не найден по указанному пути: \u001b[39m\u001b[38;5;132;01m{\u001b[39;00mfile_path\u001b[38;5;132;01m}\u001b[39;00m\u001b[38;5;124m\"\u001b[39m)\n\u001b[0;32m     32\u001b[0m \u001b[38;5;28mprint\u001b[39m(\u001b[38;5;124m\"\u001b[39m\u001b[38;5;130;01m\\n\u001b[39;00m\u001b[38;5;124mПервые три строки файла funnel.csv:\u001b[39m\u001b[38;5;124m\"\u001b[39m)\n\u001b[1;32m---> 33\u001b[0m \u001b[38;5;28;01mwith\u001b[39;00m \u001b[38;5;28mopen\u001b[39m(\u001b[43mfunnel_path\u001b[49m, \u001b[38;5;124m'\u001b[39m\u001b[38;5;124mr\u001b[39m\u001b[38;5;124m'\u001b[39m, encoding\u001b[38;5;241m=\u001b[39m\u001b[38;5;124m'\u001b[39m\u001b[38;5;124mutf-8\u001b[39m\u001b[38;5;124m'\u001b[39m) \u001b[38;5;28;01mas\u001b[39;00m funnel_file:\n\u001b[0;32m     34\u001b[0m     csv_reader \u001b[38;5;241m=\u001b[39m csv\u001b[38;5;241m.\u001b[39mreader(funnel_file)\n\u001b[0;32m     35\u001b[0m     \u001b[38;5;28;01mfor\u001b[39;00m i, row \u001b[38;5;129;01min\u001b[39;00m \u001b[38;5;28menumerate\u001b[39m(csv_reader):\n",
      "\u001b[1;31mNameError\u001b[0m: name 'funnel_path' is not defined"
     ]
    }
   ],
   "source": [
    "import json\n",
    "import os\n",
    "\n",
    "file_path = r'C:\\Users\\lolwu\\Python\\Homework Theme 4\\purchase_log.txt'\n",
    "\n",
    "purchases = {}\n",
    "\n",
    "if os.path.exists(file_path):\n",
    "    with open(file_path, 'r', encoding='utf-8') as file:\n",
    "        for line in file:\n",
    "            try:\n",
    "                data = json.loads(line)\n",
    "                user_id = data['user_id']\n",
    "                category = data['category']\n",
    "                purchases[user_id] = category\n",
    "            except json.JSONDecodeError:\n",
    "                continue\n",
    "\n",
    "    print(\"Первые два элемента словаря purchases:\")\n",
    "    count = 0\n",
    "    for user_id, category in purchases.items():\n",
    "        print(f\"'{user_id}': '{category}'\")\n",
    "        count += 1\n",
    "        if count == 2:\n",
    "            break\n",
    "\n",
    "    print(f\"\\nОбщее количество элементов в словаре: {len(purchases)}\")\n",
    "\n",
    "else:\n",
    "    print(f\"Файл не найден по указанному пути: {file_path}\")\n"
   ]
  },
  {
   "cell_type": "code",
   "execution_count": null,
   "id": "85c1960c-04fe-4343-be76-c7fa6eb98dc5",
   "metadata": {},
   "outputs": [],
   "source": []
  }
 ],
 "metadata": {
  "kernelspec": {
   "display_name": "Python 3 (ipykernel)",
   "language": "python",
   "name": "python3"
  },
  "language_info": {
   "codemirror_mode": {
    "name": "ipython",
    "version": 3
   },
   "file_extension": ".py",
   "mimetype": "text/x-python",
   "name": "python",
   "nbconvert_exporter": "python",
   "pygments_lexer": "ipython3",
   "version": "3.13.0"
  }
 },
 "nbformat": 4,
 "nbformat_minor": 5
}
